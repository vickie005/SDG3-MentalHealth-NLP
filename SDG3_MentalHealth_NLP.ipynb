{
  "nbformat": 4,
  "nbformat_minor": 0,
  "metadata": {
    "colab": {
      "provenance": [],
      "authorship_tag": "ABX9TyPCj9+gRS2wE1gsHdzaFy7+",
      "include_colab_link": true
    },
    "kernelspec": {
      "name": "python3",
      "display_name": "Python 3"
    },
    "language_info": {
      "name": "python"
    }
  },
  "cells": [
    {
      "cell_type": "markdown",
      "metadata": {
        "id": "view-in-github",
        "colab_type": "text"
      },
      "source": [
        "<a href=\"https://colab.research.google.com/github/vickie005/SDG3-MentalHealth-NLP/blob/main/SDG3_MentalHealth_NLP.ipynb\" target=\"_parent\"><img src=\"https://colab.research.google.com/assets/colab-badge.svg\" alt=\"Open In Colab\"/></a>"
      ]
    },
    {
      "cell_type": "code",
      "source": [
        "%%writefile README.md\n",
        "# 🌍 SDG 3: Good Health & Well-being\n",
        "### 🧠 Project: Predicting Mental Health Risk from Social Media Posts\n",
        "\n",
        "---\n",
        "\n",
        "## Overview\n",
        "This project addresses **Sustainable Development Goal (SDG) 3: Good Health & Well-being** by using **Natural Language Processing (NLP)** to predict emotional states from social media posts.\n",
        "Early detection of stress, anxiety, or other mental health risks can help raise awareness and support interventions.\n",
        "\n",
        "---\n",
        "\n",
        "## 🎯 Objectives\n",
        "- Analyze social media posts to identify emotional indicators.\n",
        "- Build a supervised learning model to classify emotions such as joy, sadness, anger, or fear.\n",
        "- Support mental health monitoring and awareness programs through AI insights.\n",
        "\n",
        "---\n",
        "\n",
        "## 🧰 Tools & Libraries\n",
        "- **Python** (Google Colab)\n",
        "- `pandas` for data handling\n",
        "- `scikit-learn` for machine learning models\n",
        "- `nltk` for text preprocessing\n",
        "- `matplotlib` & `seaborn` for visualization\n",
        "- `datasets` from Hugging Face for ready-to-use social media data\n",
        "\n",
        "---\n",
        "\n",
        "## 📊 Machine Learning Approach\n",
        "**Algorithm Used:** Logistic Regression (can also experiment with Naive Bayes or BERT for better accuracy)\n",
        "1. **Data Loading:** Use Hugging Face `emotion` dataset (directly in Python, no downloads).\n",
        "2. **Preprocessing:** Clean text, remove stopwords, normalize.\n",
        "3. **Feature Extraction:** Convert text to numeric vectors using TF-IDF.\n",
        "4. **Model Training:** Train Logistic Regression classifier on labeled emotions.\n",
        "5. **Evaluation:** Use classification report and confusion matrix to evaluate performance.\n",
        "\n",
        "---\n",
        "\n",
        "## 🌱 Ethical Considerations\n",
        "- Ensure user privacy by using only anonymized or public posts.\n",
        "- Be aware of potential bias in social media datasets.\n",
        "- Avoid misinterpreting emotions or overgeneralizing mental health status.\n",
        "\n",
        "---\n",
        "\n",
        "## 💡 Expected Impact\n",
        "By identifying emotional patterns in social media posts, this model can:\n",
        "- Help mental health organizations detect trends in stress or depression.\n",
        "- Support early interventions and awareness campaigns.\n",
        "- Encourage responsible use of AI in mental health monitoring.\n",
        "\n",
        "---\n",
        "\n",
        "## 📎 Deliverables\n",
        "- `SDG3_MentalHealthNLP.ipynb` – Colab notebook with full workflow\n",
        "- `README.md` – Project documentation\n",
        "- Screenshots of visualizations and evaluation results\n",
        "- Optional project pitch or short video demo\n",
        "\n",
        "---\n",
        "\n",
        "## SDG 3 Mental Health NLP Project presentation:\n",
        "https://gamma.app/docs/Predicting-Mental-Health-Risk-from-Social-Media-Posts-7e4g5ubrri7941x\n",
        "\n",
        "---\n",
        "## ✨ Quote\n",
        "> “AI can be the bridge between innovation and sustainability.” — UN Tech Envoy\n"
      ],
      "metadata": {
        "id": "0L0QoP8a0vBp"
      },
      "execution_count": null,
      "outputs": []
    },
    {
      "cell_type": "code",
      "execution_count": null,
      "metadata": {
        "id": "tiujtMGWslg9"
      },
      "outputs": [],
      "source": [
        "!pip install datasets scikit-learn nltk seaborn matplotlib"
      ]
    },
    {
      "cell_type": "code",
      "source": [
        "import pandas as pd\n",
        "import numpy as np\n",
        "import matplotlib.pyplot as plt\n",
        "import seaborn as sns\n",
        "import nltk\n",
        "from sklearn.model_selection import train_test_split\n",
        "from sklearn.feature_extraction.text import TfidfVectorizer\n",
        "from sklearn.linear_model import LogisticRegression\n",
        "from sklearn.metrics import classification_report, confusion_matrix\n",
        "from datasets import load_dataset\n",
        "nltk.download('stopwords')"
      ],
      "metadata": {
        "id": "CRzNf2Y8s8eZ"
      },
      "execution_count": null,
      "outputs": []
    },
    {
      "cell_type": "code",
      "source": [
        "dataset = load_dataset(\"emotion\")\n",
        "train_data = dataset['train']\n",
        "test_data = dataset['test']\n",
        "\n",
        "# Convert to pandas DataFrame (for easier handling)\n",
        "df_train = pd.DataFrame(train_data)\n",
        "df_test = pd.DataFrame(test_data)\n",
        "\n",
        "df_train.head()"
      ],
      "metadata": {
        "id": "IHFRQhiftMV3"
      },
      "execution_count": null,
      "outputs": []
    },
    {
      "cell_type": "code",
      "source": [
        "dataset[\"train\"].features[\"label\"]"
      ],
      "metadata": {
        "id": "ceDLiqqBthS3"
      },
      "execution_count": null,
      "outputs": []
    },
    {
      "cell_type": "code",
      "source": [
        "# Explore and Visualize Data\n",
        "sns.countplot(x=df_train['label'])\n",
        "plt.title('Distribution of Emotion Labels')\n",
        "plt.show()"
      ],
      "metadata": {
        "id": "KElXZln7th2T"
      },
      "execution_count": null,
      "outputs": []
    },
    {
      "cell_type": "code",
      "source": [
        "# Data Preprocessing\n",
        "from nltk.corpus import stopwords\n",
        "stop_words = stopwords.words('english')\n",
        "\n",
        "def preprocess(text):\n",
        "    text = text.lower()\n",
        "    return ' '.join([word for word in text.split() if word not in stop_words])\n",
        "\n",
        "df_train['clean_text'] = df_train['text'].apply(preprocess)\n",
        "df_test['clean_text'] = df_test['text'].apply(preprocess)\n"
      ],
      "metadata": {
        "id": "Mco7QoY8tqgG"
      },
      "execution_count": null,
      "outputs": []
    },
    {
      "cell_type": "code",
      "source": [
        "# Feature Extraction (TF-IDF)\n",
        "vectorizer = TfidfVectorizer(max_features=5000)\n",
        "X_train = vectorizer.fit_transform(df_train['clean_text'])\n",
        "X_test = vectorizer.transform(df_test['clean_text'])\n",
        "\n",
        "y_train = df_train['label']\n",
        "y_test = df_test['label']"
      ],
      "metadata": {
        "id": "F81A0ZQ3trgE"
      },
      "execution_count": null,
      "outputs": []
    },
    {
      "cell_type": "code",
      "source": [
        "# Train Model\n",
        "model = LogisticRegression(max_iter=200)\n",
        "model.fit(X_train, y_train)"
      ],
      "metadata": {
        "id": "kIiJEC2lt0M_"
      },
      "execution_count": null,
      "outputs": []
    },
    {
      "cell_type": "code",
      "source": [
        "# Evaluate Model\n",
        "y_pred = model.predict(X_test)\n",
        "\n",
        "print(classification_report(y_test, y_pred))\n",
        "sns.heatmap(confusion_matrix(y_test, y_pred), annot=True, fmt='d', cmap='Blues')\n",
        "plt.title('Confusion Matrix')\n",
        "plt.xlabel('Predicted')\n",
        "plt.ylabel('Actual')\n",
        "plt.show()"
      ],
      "metadata": {
        "id": "r3Gm44l8t1Se"
      },
      "execution_count": null,
      "outputs": []
    },
    {
      "cell_type": "markdown",
      "source": [
        "\n",
        "**Project Report: SDG 3 - Mental Health NLP Project**\n",
        "\n",
        "**SDG Problem Addressed:**  \n",
        "Mental health is a growing concern worldwide. Social media posts contain valuable signals about users’ emotional states, which can indicate stress, anxiety, or other mental health risks.\n",
        "\n",
        "**ML Approach Used:**  \n",
        "I used **Natural Language Processing (NLP)** with supervised learning. The workflow includes:\n",
        "- Text preprocessing (cleaning, stopwords removal, normalization)\n",
        "- Feature extraction using TF-IDF\n",
        "- Logistic Regression classification\n",
        "- Evaluation using accuracy, F1-score, and confusion matrix\n",
        "\n",
        "**Results:**  \n",
        "The model achieved an overall **accuracy of 87%** on this test set. The **weighted F1-score is 0.86**, and the **macro F1-score is 0.80**. Confusion matrix and visualizations indicate the model can reasonably distinguish between emotions like joy, sadness, anger, and fear.\n",
        "\n",
        "**Ethical Considerations:**  \n",
        "- Only anonymized/public posts were used to protect privacy.  \n",
        "- Dataset bias may exist; results should not be overgeneralized.  \n",
        "- The project promotes responsible use of AI in mental health monitoring.\n",
        "\n",
        "**Conclusion:**  \n",
        "This project demonstrates how AI can support mental health initiatives by detecting emotional signals in social media posts, helping organizations plan early interventions.\n"
      ],
      "metadata": {
        "id": "QNJKWGO86McJ"
      }
    },
    {
      "cell_type": "markdown",
      "source": [
        "**View the SDG 3 Mental Health NLP Project presentation:**  \n",
        "[Click here to open the slides](https://gamma.app/docs/Predicting-Mental-Health-Risk-from-Social-Media-Posts-7e4g5ubrri7941x)"
      ],
      "metadata": {
        "id": "7hbV8sTZ_4IF"
      }
    }
  ]
}